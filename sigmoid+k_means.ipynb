{
  "nbformat": 4,
  "nbformat_minor": 0,
  "metadata": {
    "colab": {
      "name": "sigmoid+k.means.ipynb",
      "provenance": [],
      "authorship_tag": "ABX9TyOF30WyvfojkLkTfbKg2zMj",
      "include_colab_link": true
    },
    "kernelspec": {
      "name": "python3",
      "display_name": "Python 3"
    }
  },
  "cells": [
    {
      "cell_type": "markdown",
      "metadata": {
        "id": "view-in-github",
        "colab_type": "text"
      },
      "source": [
        "<a href=\"https://colab.research.google.com/github/likedanger/Data_Study/blob/master/sigmoid%2Bk_means.ipynb\" target=\"_parent\"><img src=\"https://colab.research.google.com/assets/colab-badge.svg\" alt=\"Open In Colab\"/></a>"
      ]
    },
    {
      "cell_type": "markdown",
      "metadata": {
        "id": "tK7fHUtfAfMH",
        "colab_type": "text"
      },
      "source": [
        "## sigmoid function"
      ]
    },
    {
      "cell_type": "code",
      "metadata": {
        "id": "pj_SMnfg_6dE",
        "colab_type": "code",
        "colab": {}
      },
      "source": [
        "import matplotlib.pyplot as plt\n",
        "import numpy as np"
      ],
      "execution_count": 0,
      "outputs": []
    },
    {
      "cell_type": "code",
      "metadata": {
        "id": "5j9jcxVM_9pE",
        "colab_type": "code",
        "colab": {}
      },
      "source": [
        "def sigmoid(z):\n",
        "  return 1.0/(1.0 + np.exp(-z))\n",
        "\n",
        "\n",
        "z = np.arange(-7, 7, 0.1)\n",
        "f_x = sigmoid(z)"
      ],
      "execution_count": 0,
      "outputs": []
    },
    {
      "cell_type": "code",
      "metadata": {
        "id": "Zm2z53ALAFml",
        "colab_type": "code",
        "colab": {
          "base_uri": "https://localhost:8080/",
          "height": 297
        },
        "outputId": "48bcbaa6-90d0-4c33-d014-42ec459deadf"
      },
      "source": [
        "plt.plot(z, f_x)\n",
        "plt.axvline(0.0, color = 'k')\n",
        "plt.ylim(-0.1, 1.1)\n",
        "plt.xlabel('z')\n",
        "plt.ylabel('f(x)')\n",
        "\n",
        "plt.yticks([0.0, 0.5, 1.0])\n",
        "ax = plt.gca()\n",
        "ax.yaxis.grid(True)\n",
        "plt.tight_layout()\n",
        "plt.show()"
      ],
      "execution_count": 4,
      "outputs": [
        {
          "output_type": "display_data",
          "data": {
            "image/png": "[encoded data removed]",
            "text/plain": [
              "<Figure size 432x288 with 1 Axes>"
            ]
          },
          "metadata": {
            "tags": [],
            "needs_background": "light"
          }
        }
      ]
    },
    {
      "cell_type": "markdown",
      "metadata": {
        "id": "-IP-kiSKNDXY",
        "colab_type": "text"
      },
      "source": [
        "## 군집분석 K 평균"
      ]
    },
    {
      "cell_type": "code",
      "metadata": {
        "id": "Y5egT1bGAa8P",
        "colab_type": "code",
        "colab": {}
      },
      "source": [
        "from sklearn.datasets import make_blobs"
      ],
      "execution_count": 0,
      "outputs": []
    },
    {
      "cell_type": "code",
      "metadata": {
        "id": "fcI46CjtNKTb",
        "colab_type": "code",
        "colab": {}
      },
      "source": [
        "X, y = make_blobs(n_samples=150, n_features=2, centers= 3, cluster_std=0.5, shuffle= True, random_state=0)"
      ],
      "execution_count": 0,
      "outputs": []
    },
    {
      "cell_type": "code",
      "metadata": {
        "id": "pH8RaIdNNTzB",
        "colab_type": "code",
        "colab": {
          "base_uri": "https://localhost:8080/",
          "height": 297
        },
        "outputId": "daa96833-5cb6-4880-a9bf-ecbf0fe256fb"
      },
      "source": [
        "plt.scatter(X[:,0], X[:,1], c='white', marker= 'o', edgecolors='black', s= 50)\n",
        "plt.grid()\n",
        "plt.tight_layout()\n",
        "plt.show()"
      ],
      "execution_count": 12,
      "outputs": [
        {
          "output_type": "display_data",
          "data": {
            "image/png": "[encoded data removed]",
            "text/plain": [
              "<Figure size 432x288 with 1 Axes>"
            ]
          },
          "metadata": {
            "tags": [],
            "needs_background": "light"
          }
        }
      ]
    },
    {
      "cell_type": "code",
      "metadata": {
        "id": "LfoqYYcyNjxv",
        "colab_type": "code",
        "colab": {}
      },
      "source": [
        "from sklearn.cluster import KMeans"
      ],
      "execution_count": 0,
      "outputs": []
    },
    {
      "cell_type": "code",
      "metadata": {
        "id": "32yxQrL2OvZi",
        "colab_type": "code",
        "colab": {}
      },
      "source": [
        "km = KMeans(n_clusters=3, init= 'random', n_init=10, max_iter=300, tol=1e-04,random_state=0)\n",
        "# n_clusters = 클러스터 개수\n",
        "# init = 기본 k평균 설정\n",
        "# n_init = 각기 랜덤한 샌트로이드에서 실행 횟수\n",
        "# max_iter = 가장 가까운 샌트로이드에 할당 및 이동\n",
        "# tol = 제곱 오차 변화량에 대한 허용 오차 값에 도달할 경우 일찍 종료"
      ],
      "execution_count": 0,
      "outputs": []
    },
    {
      "cell_type": "code",
      "metadata": {
        "id": "Pu8nNpE7O3X7",
        "colab_type": "code",
        "colab": {}
      },
      "source": [
        "y_km = km.fit_predict(X)\n",
        "# 군집 분석 알고리즘에 대한 예측 클레스 레이블"
      ],
      "execution_count": 0,
      "outputs": []
    },
    {
      "cell_type": "markdown",
      "metadata": {
        "id": "jPpXDhblPyqs",
        "colab_type": "text"
      },
      "source": [
        "## K-means 알고리즘 시각화 코드"
      ]
    },
    {
      "cell_type": "code",
      "metadata": {
        "id": "GTrOQOQzPCOg",
        "colab_type": "code",
        "colab": {
          "base_uri": "https://localhost:8080/",
          "height": 297
        },
        "outputId": "7bbaa0de-dc7e-4fae-c2ef-e9b0a4254b47"
      },
      "source": [
        "plt.scatter(X[y_km == 0,0], X[y_km == 0, 1], s =50, c='lightgreen', marker = 's', edgecolor = 'black', label = 'cluster 1')\n",
        "\n",
        "plt.scatter(X[y_km == 1,0], X[y_km == 1, 1], s =50, c='orange', marker = 'o', edgecolor = 'black', label = 'cluster 2')\n",
        "\n",
        "plt.scatter(X[y_km == 2,0], X[y_km == 2, 1], s =50, c='lightblue', marker = 'v', edgecolor = 'black', label = 'cluster 3')\n",
        "\n",
        "plt.scatter(km.cluster_centers_[:,0], km.cluster_centers_[:,1], s= 250, marker = '*', c = 'red', edgecolors= 'black', label = 'centroids')\n",
        "\n",
        "plt.legend(scatterpoints = 1)\n",
        "plt.grid()\n",
        "plt.tight_layout()\n",
        "plt.show()"
      ],
      "execution_count": 19,
      "outputs": [
        {
          "output_type": "display_data",
          "data": {
            "image/png": "[encoded data removed]",
            "text/plain": [
              "<Figure size 432x288 with 1 Axes>"
            ]
          },
          "metadata": {
            "tags": [],
            "needs_background": "light"
          }
        }
      ]
    },
    {
      "cell_type": "markdown",
      "metadata": {
        "id": "ZGVX_H3gQx2_",
        "colab_type": "text"
      },
      "source": [
        "## K-means ++"
      ]
    },
    {
      "cell_type": "code",
      "metadata": {
        "id": "lmZmfIGYQf4m",
        "colab_type": "code",
        "colab": {}
      },
      "source": [
        "km = KMeans(n_clusters = 3, init='k-means++', n_init=10,max_iter=300, tol=1e-04, random_state=0)"
      ],
      "execution_count": 0,
      "outputs": []
    },
    {
      "cell_type": "markdown",
      "metadata": {
        "id": "Z6mmUoJkRYRi",
        "colab_type": "text"
      },
      "source": [
        "## 관성 - inertia"
      ]
    },
    {
      "cell_type": "code",
      "metadata": {
        "id": "Q2uDRsAYRCKN",
        "colab_type": "code",
        "colab": {
          "base_uri": "https://localhost:8080/",
          "height": 35
        },
        "outputId": "48de4578-7a22-4caa-9810-8a3e109d738a"
      },
      "source": [
        "print('왜곡: %.2f' % km.inertia_)"
      ],
      "execution_count": 40,
      "outputs": [
        {
          "output_type": "stream",
          "text": [
            "왜곡: 72.48\n"
          ],
          "name": "stdout"
        }
      ]
    },
    {
      "cell_type": "markdown",
      "metadata": {
        "id": "iZzcJmy1Sg_F",
        "colab_type": "text"
      },
      "source": [
        "## Elbow Method"
      ]
    },
    {
      "cell_type": "code",
      "metadata": {
        "id": "aPR0jsuSRd2-",
        "colab_type": "code",
        "colab": {
          "base_uri": "https://localhost:8080/",
          "height": 297
        },
        "outputId": "3ecde1c3-a796-46b5-9ca3-8678d1e78d3f"
      },
      "source": [
        "distortions=[]\n",
        "for i in range(1, 11):\n",
        "  km = KMeans(n_clusters= i , init='k-means++', n_init=10, max_iter=300, random_state=0)\n",
        "\n",
        "  km.fit(X)\n",
        "  distortions.append(km.inertia_)\n",
        "\n",
        "plt.plot(range(1,11),distortions,marker='o')\n",
        "plt.xlabel('Number of cluster')\n",
        "plt.ylabel('Distortion')\n",
        "plt.tight_layout()\n",
        "plt.show()"
      ],
      "execution_count": 41,
      "outputs": [
        {
          "output_type": "display_data",
          "data": {
            "image/png": "[encoded data removed]",
            "text/plain": [
              "<Figure size 432x288 with 1 Axes>"
            ]
          },
          "metadata": {
            "tags": [],
            "needs_background": "light"
          }
        }
      ]
    },
    {
      "cell_type": "markdown",
      "metadata": {
        "id": "5cbspbcVTsjd",
        "colab_type": "text"
      },
      "source": [
        "## Silhouette Analysis"
      ]
    },
    {
      "cell_type": "code",
      "metadata": {
        "id": "-NLTdBU5TIyD",
        "colab_type": "code",
        "colab": {}
      },
      "source": [
        "from matplotlib import cm\n",
        "from sklearn.metrics import silhouette_samples"
      ],
      "execution_count": 0,
      "outputs": []
    },
    {
      "cell_type": "code",
      "metadata": {
        "id": "xJ53vQhmT05V",
        "colab_type": "code",
        "colab": {}
      },
      "source": [
        "km = KMeans(n_clusters= 3 , init='k-means++', n_init=10, max_iter=300, random_state=0)\n",
        "\n",
        "y_km = km.fit_predict(X)\n",
        "\n",
        "cluster_labels = np.unique(y_km)\n",
        "n_clusters = cluster_labels.shape[0]\n",
        "\n",
        "silhouette_vals = silhouette_samples(X, y_km, metric='euclidean')"
      ],
      "execution_count": 0,
      "outputs": []
    },
    {
      "cell_type": "code",
      "metadata": {
        "id": "VEh3IlPPT606",
        "colab_type": "code",
        "colab": {
          "base_uri": "https://localhost:8080/",
          "height": 297
        },
        "outputId": "64c20369-dea5-4263-9232-7a88135bfa60"
      },
      "source": [
        "y_ax_lower, y_ax_upper = 0, 0\n",
        "yticks = []\n",
        "for i , c in enumerate(cluster_labels):\n",
        "  c_silhoutte_vals = silhouette_vals[y_km == c]\n",
        "  c_silhoutte_vals.sort()\n",
        "  y_ax_upper += len(c_silhoutte_vals)\n",
        "  color = cm.jet(float(i) / n_clusters)\n",
        "  plt.barh(range(y_ax_lower, y_ax_upper), c_silhoutte_vals, height = 1.0, edgecolor ='none', color=color)\n",
        "\n",
        "  yticks.append((y_ax_lower + y_ax_upper) / 2.)\n",
        "  y_ax_lower += len(c_silhoutte_vals)\n",
        "\n",
        "silhouette_avg = np.mean(silhouette_vals)\n",
        "plt.axvline(silhouette_avg, color = \"red\", linestyle=\"--\")\n",
        "\n",
        "plt.yticks(yticks, cluster_labels + 1)\n",
        "plt.ylabel('Cluster')\n",
        "plt.xlabel('Silhouette coefficient')\n",
        "\n",
        "plt.tight_layout()\n",
        "plt.show()"
      ],
      "execution_count": 51,
      "outputs": [
        {
          "output_type": "display_data",
          "data": {
            "image/png": "[encoded data removed]",
            "text/plain": [
              "<Figure size 432x288 with 1 Axes>"
            ]
          },
          "metadata": {
            "tags": [],
            "needs_background": "light"
          }
        }
      ]
    },
    {
      "cell_type": "code",
      "metadata": {
        "id": "glIYrLoaWFAu",
        "colab_type": "code",
        "colab": {}
      },
      "source": [
        ""
      ],
      "execution_count": 0,
      "outputs": []
    }
  ]
}